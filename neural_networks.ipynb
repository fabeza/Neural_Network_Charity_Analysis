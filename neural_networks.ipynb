{
 "cells": [
  {
   "cell_type": "code",
   "execution_count": 1,
   "id": "8b12c6d7",
   "metadata": {},
   "outputs": [
    {
     "name": "stderr",
     "output_type": "stream",
     "text": [
      "2023-02-20 18:03:38.396768: I tensorflow/core/platform/cpu_feature_guard.cc:193] This TensorFlow binary is optimized with oneAPI Deep Neural Network Library (oneDNN) to use the following CPU instructions in performance-critical operations:  AVX2 FMA\n",
      "To enable them in other operations, rebuild TensorFlow with the appropriate compiler flags.\n"
     ]
    }
   ],
   "source": [
    "# Import our dependencies\n",
    "import pandas as pd\n",
    "import matplotlib as plt\n",
    "from sklearn.datasets import make_blobs\n",
    "import sklearn as skl\n",
    "import tensorflow as tf"
   ]
  },
  {
   "cell_type": "code",
   "execution_count": 2,
   "id": "24c37f5a",
   "metadata": {},
   "outputs": [
    {
     "data": {
      "text/plain": [
       "<AxesSubplot:xlabel='Feature 1', ylabel='Feature 2'>"
      ]
     },
     "execution_count": 2,
     "metadata": {},
     "output_type": "execute_result"
    },
    {
     "data": {
      "image/png": "[encoded data removed]",
      "text/plain": [
       "<Figure size 432x288 with 2 Axes>"
      ]
     },
     "metadata": {
      "needs_background": "light"
     },
     "output_type": "display_data"
    }
   ],
   "source": [
    "# Generate dummy dataset\n",
    "X, y = make_blobs(n_samples=1000, centers=2, n_features=2, random_state=78)\n",
    "\n",
    "# Creating a dataframe with the dummy data\n",
    "df = pd.DataFrame(X, columns=[\"Feature 1\", \"Feature 2\"])\n",
    "df[\"Target\"] = y\n",
    "\n",
    "# Plotting the dummy data\n",
    "df.plot.scatter(x=\"Feature 1\", y=\"Feature 2\", c=\"Target\", colormap=\"winter\")"
   ]
  },
  {
   "cell_type": "code",
   "execution_count": 4,
   "id": "afb69c6a",
   "metadata": {},
   "outputs": [],
   "source": [
    "# Use sklearn to split dataset\n",
    "from sklearn.model_selection import train_test_split\n",
    "\n",
    "X_train, X_test, y_train, y_test = train_test_split(X, y, random_state=78)"
   ]
  },
  {
   "cell_type": "code",
   "execution_count": 5,
   "id": "83b2466d",
   "metadata": {},
   "outputs": [],
   "source": [
    "# Create scaler instance\n",
    "X_scaler = skl.preprocessing.StandardScaler()\n",
    "\n",
    "# Fit the scaler\n",
    "X_scaler.fit(X_train)\n",
    "\n",
    "# Scale the data\n",
    "X_train_scaled = X_scaler.transform(X_train)\n",
    "X_test_scaled = X_scaler.transform(X_test)"
   ]
  },
  {
   "cell_type": "code",
   "execution_count": 6,
   "id": "d1d82bb6",
   "metadata": {},
   "outputs": [
    {
     "name": "stderr",
     "output_type": "stream",
     "text": [
      "2023-02-20 18:17:11.871166: I tensorflow/core/platform/cpu_feature_guard.cc:193] This TensorFlow binary is optimized with oneAPI Deep Neural Network Library (oneDNN) to use the following CPU instructions in performance-critical operations:  AVX2 FMA\n",
      "To enable them in other operations, rebuild TensorFlow with the appropriate compiler flags.\n"
     ]
    }
   ],
   "source": [
    "# Create the Keras Sequential model\n",
    "nn_model = tf.keras.models.Sequential()"
   ]
  },
  {
   "cell_type": "code",
   "execution_count": 7,
   "id": "fc77bdd3",
   "metadata": {},
   "outputs": [],
   "source": [
    "# Add our first Dense layer, including the input layer\n",
    "nn_model.add(tf.keras.layers.Dense(units=1, activation=\"relu\", input_dim=2))\n",
    "\n",
    "# The input_dimparameter indicates how many inputs will be in the model (in this case two).\n",
    "# The units parameter indicates how many neurons we want in the hidden layer (in this case one).\n",
    "# The activation parameter indicates which activation function to use. We'll use the ReLU activation function \n",
    "# to allow our hidden layer to identify and train on nonlinear relationships in the dataset."
   ]
  },
  {
   "cell_type": "code",
   "execution_count": 10,
   "id": "e4b55039",
   "metadata": {},
   "outputs": [],
   "source": [
    "# Add the output layer that uses a probability activation function\n",
    "nn_model.add(tf.keras.layers.Dense(units=1, activation=\"sigmoid\"))"
   ]
  },
  {
   "cell_type": "code",
   "execution_count": 11,
   "id": "93d107c7",
   "metadata": {},
   "outputs": [
    {
     "name": "stdout",
     "output_type": "stream",
     "text": [
      "Model: \"sequential\"\n",
      "_________________________________________________________________\n",
      " Layer (type)                Output Shape              Param #   \n",
      "=================================================================\n",
      " dense (Dense)               (None, 1)                 3         \n",
      "                                                                 \n",
      " dense_1 (Dense)             (None, 1)                 2         \n",
      "                                                                 \n",
      "=================================================================\n",
      "Total params: 5\n",
      "Trainable params: 5\n",
      "Non-trainable params: 0\n",
      "_________________________________________________________________\n"
     ]
    }
   ],
   "source": [
    "# Check the structure of the Sequential model\n",
    "nn_model.summary()"
   ]
  },
  {
   "cell_type": "code",
   "execution_count": 12,
   "id": "ee7ed063",
   "metadata": {},
   "outputs": [],
   "source": [
    "# Compile the Sequential model together and customize metrics\n",
    "nn_model.compile(loss=\"binary_crossentropy\", optimizer=\"adam\", metrics=[\"accuracy\"])"
   ]
  },
  {
   "cell_type": "code",
   "execution_count": 13,
   "id": "2e51ede2",
   "metadata": {},
   "outputs": [
    {
     "name": "stdout",
     "output_type": "stream",
     "text": [
      "Epoch 1/100\n",
      "24/24 [==============================] - 2s 3ms/step - loss: 0.6100 - accuracy: 0.8280\n",
      "Epoch 2/100\n",
      "24/24 [==============================] - 0s 3ms/step - loss: 0.6008 - accuracy: 0.8747\n",
      "Epoch 3/100\n",
      "24/24 [==============================] - 0s 4ms/step - loss: 0.5910 - accuracy: 0.8827\n",
      "Epoch 4/100\n",
      "24/24 [==============================] - 0s 4ms/step - loss: 0.5809 - accuracy: 0.8880\n",
      "Epoch 5/100\n",
      "24/24 [==============================] - 0s 3ms/step - loss: 0.5703 - accuracy: 0.8920\n",
      "Epoch 6/100\n",
      "24/24 [==============================] - 0s 4ms/step - loss: 0.5594 - accuracy: 0.8960\n",
      "Epoch 7/100\n",
      "24/24 [==============================] - 0s 3ms/step - loss: 0.5482 - accuracy: 0.9027\n",
      "Epoch 8/100\n",
      "24/24 [==============================] - 0s 3ms/step - loss: 0.5367 - accuracy: 0.9067\n",
      "Epoch 9/100\n",
      "24/24 [==============================] - 0s 4ms/step - loss: 0.5252 - accuracy: 0.9160\n",
      "Epoch 10/100\n",
      "24/24 [==============================] - 0s 4ms/step - loss: 0.5137 - accuracy: 0.9187\n",
      "Epoch 11/100\n",
      "24/24 [==============================] - 0s 3ms/step - loss: 0.5021 - accuracy: 0.9253\n",
      "Epoch 12/100\n",
      "24/24 [==============================] - 0s 4ms/step - loss: 0.4907 - accuracy: 0.9320\n",
      "Epoch 13/100\n",
      "24/24 [==============================] - 0s 3ms/step - loss: 0.4793 - accuracy: 0.9347\n",
      "Epoch 14/100\n",
      "24/24 [==============================] - 0s 4ms/step - loss: 0.4681 - accuracy: 0.9400\n",
      "Epoch 15/100\n",
      "24/24 [==============================] - 0s 4ms/step - loss: 0.4570 - accuracy: 0.9413\n",
      "Epoch 16/100\n",
      "24/24 [==============================] - 0s 5ms/step - loss: 0.4460 - accuracy: 0.9440\n",
      "Epoch 17/100\n",
      "24/24 [==============================] - 0s 4ms/step - loss: 0.4353 - accuracy: 0.9453\n",
      "Epoch 18/100\n",
      "24/24 [==============================] - 0s 9ms/step - loss: 0.4247 - accuracy: 0.9493\n",
      "Epoch 19/100\n",
      "24/24 [==============================] - 0s 3ms/step - loss: 0.4143 - accuracy: 0.9507\n",
      "Epoch 20/100\n",
      "24/24 [==============================] - 0s 4ms/step - loss: 0.4042 - accuracy: 0.9520\n",
      "Epoch 21/100\n",
      "24/24 [==============================] - 0s 6ms/step - loss: 0.3943 - accuracy: 0.9533\n",
      "Epoch 22/100\n",
      "24/24 [==============================] - 0s 4ms/step - loss: 0.3846 - accuracy: 0.9547\n",
      "Epoch 23/100\n",
      "24/24 [==============================] - 0s 4ms/step - loss: 0.3752 - accuracy: 0.9560\n",
      "Epoch 24/100\n",
      "24/24 [==============================] - 0s 3ms/step - loss: 0.3661 - accuracy: 0.9560\n",
      "Epoch 25/100\n",
      "24/24 [==============================] - 0s 12ms/step - loss: 0.3572 - accuracy: 0.9573\n",
      "Epoch 26/100\n",
      "24/24 [==============================] - 0s 4ms/step - loss: 0.3487 - accuracy: 0.9627\n",
      "Epoch 27/100\n",
      "24/24 [==============================] - 0s 4ms/step - loss: 0.3403 - accuracy: 0.9640\n",
      "Epoch 28/100\n",
      "24/24 [==============================] - 0s 4ms/step - loss: 0.3321 - accuracy: 0.9653\n",
      "Epoch 29/100\n",
      "24/24 [==============================] - 0s 7ms/step - loss: 0.3243 - accuracy: 0.9680\n",
      "Epoch 30/100\n",
      "24/24 [==============================] - 0s 7ms/step - loss: 0.3166 - accuracy: 0.9680\n",
      "Epoch 31/100\n",
      "24/24 [==============================] - 0s 4ms/step - loss: 0.3092 - accuracy: 0.9693\n",
      "Epoch 32/100\n",
      "24/24 [==============================] - 0s 3ms/step - loss: 0.3020 - accuracy: 0.9707\n",
      "Epoch 33/100\n",
      "24/24 [==============================] - 0s 4ms/step - loss: 0.2950 - accuracy: 0.9720\n",
      "Epoch 34/100\n",
      "24/24 [==============================] - 0s 3ms/step - loss: 0.2882 - accuracy: 0.9747\n",
      "Epoch 35/100\n",
      "24/24 [==============================] - 0s 4ms/step - loss: 0.2816 - accuracy: 0.9773\n",
      "Epoch 36/100\n",
      "24/24 [==============================] - 0s 4ms/step - loss: 0.2752 - accuracy: 0.9787\n",
      "Epoch 37/100\n",
      "24/24 [==============================] - 0s 6ms/step - loss: 0.2689 - accuracy: 0.9800\n",
      "Epoch 38/100\n",
      "24/24 [==============================] - 0s 4ms/step - loss: 0.2628 - accuracy: 0.9813\n",
      "Epoch 39/100\n",
      "24/24 [==============================] - 0s 3ms/step - loss: 0.2567 - accuracy: 0.9813\n",
      "Epoch 40/100\n",
      "24/24 [==============================] - 0s 4ms/step - loss: 0.2509 - accuracy: 0.9813\n",
      "Epoch 41/100\n",
      "24/24 [==============================] - 0s 4ms/step - loss: 0.2452 - accuracy: 0.9813\n",
      "Epoch 42/100\n",
      "24/24 [==============================] - 0s 5ms/step - loss: 0.2397 - accuracy: 0.9813\n",
      "Epoch 43/100\n",
      "24/24 [==============================] - 0s 5ms/step - loss: 0.2343 - accuracy: 0.9840\n",
      "Epoch 44/100\n",
      "24/24 [==============================] - 0s 4ms/step - loss: 0.2290 - accuracy: 0.9853\n",
      "Epoch 45/100\n",
      "24/24 [==============================] - 0s 4ms/step - loss: 0.2239 - accuracy: 0.9853\n",
      "Epoch 46/100\n",
      "24/24 [==============================] - 0s 3ms/step - loss: 0.2189 - accuracy: 0.9853\n",
      "Epoch 47/100\n",
      "24/24 [==============================] - 0s 3ms/step - loss: 0.2139 - accuracy: 0.9867\n",
      "Epoch 48/100\n",
      "24/24 [==============================] - 0s 4ms/step - loss: 0.2092 - accuracy: 0.9867\n",
      "Epoch 49/100\n",
      "24/24 [==============================] - 0s 3ms/step - loss: 0.2046 - accuracy: 0.9867\n",
      "Epoch 50/100\n",
      "24/24 [==============================] - 0s 3ms/step - loss: 0.2001 - accuracy: 0.9880\n",
      "Epoch 51/100\n",
      "24/24 [==============================] - 0s 3ms/step - loss: 0.1957 - accuracy: 0.9880\n",
      "Epoch 52/100\n",
      "24/24 [==============================] - 0s 4ms/step - loss: 0.1914 - accuracy: 0.9880\n",
      "Epoch 53/100\n",
      "24/24 [==============================] - 0s 3ms/step - loss: 0.1873 - accuracy: 0.9880\n",
      "Epoch 54/100\n",
      "24/24 [==============================] - 0s 3ms/step - loss: 0.1833 - accuracy: 0.9880\n",
      "Epoch 55/100\n",
      "24/24 [==============================] - 0s 3ms/step - loss: 0.1793 - accuracy: 0.9880\n",
      "Epoch 56/100\n",
      "24/24 [==============================] - 0s 2ms/step - loss: 0.1755 - accuracy: 0.9893\n",
      "Epoch 57/100\n",
      "24/24 [==============================] - 0s 3ms/step - loss: 0.1718 - accuracy: 0.9907\n",
      "Epoch 58/100\n",
      "24/24 [==============================] - 0s 3ms/step - loss: 0.1682 - accuracy: 0.9920\n",
      "Epoch 59/100\n",
      "24/24 [==============================] - 0s 3ms/step - loss: 0.1647 - accuracy: 0.9920\n",
      "Epoch 60/100\n",
      "24/24 [==============================] - 0s 3ms/step - loss: 0.1612 - accuracy: 0.9920\n",
      "Epoch 61/100\n",
      "24/24 [==============================] - 0s 4ms/step - loss: 0.1579 - accuracy: 0.9920\n",
      "Epoch 62/100\n",
      "24/24 [==============================] - 0s 3ms/step - loss: 0.1547 - accuracy: 0.9920\n",
      "Epoch 63/100\n",
      "24/24 [==============================] - 0s 3ms/step - loss: 0.1515 - accuracy: 0.9933\n",
      "Epoch 64/100\n",
      "24/24 [==============================] - 0s 3ms/step - loss: 0.1484 - accuracy: 0.9947\n",
      "Epoch 65/100\n",
      "24/24 [==============================] - 0s 3ms/step - loss: 0.1455 - accuracy: 0.9947\n",
      "Epoch 66/100\n",
      "24/24 [==============================] - 0s 7ms/step - loss: 0.1425 - accuracy: 0.9947\n",
      "Epoch 67/100\n",
      "24/24 [==============================] - 0s 3ms/step - loss: 0.1397 - accuracy: 0.9947\n",
      "Epoch 68/100\n",
      "24/24 [==============================] - 0s 3ms/step - loss: 0.1369 - accuracy: 0.9973\n",
      "Epoch 69/100\n",
      "24/24 [==============================] - 0s 3ms/step - loss: 0.1342 - accuracy: 0.9973\n",
      "Epoch 70/100\n",
      "24/24 [==============================] - 0s 3ms/step - loss: 0.1315 - accuracy: 0.9973\n",
      "Epoch 71/100\n",
      "24/24 [==============================] - 0s 4ms/step - loss: 0.1289 - accuracy: 0.9973\n",
      "Epoch 72/100\n",
      "24/24 [==============================] - 0s 5ms/step - loss: 0.1265 - accuracy: 0.9973\n",
      "Epoch 73/100\n",
      "24/24 [==============================] - 0s 3ms/step - loss: 0.1241 - accuracy: 0.9973\n",
      "Epoch 74/100\n",
      "24/24 [==============================] - 0s 3ms/step - loss: 0.1217 - accuracy: 0.9973\n",
      "Epoch 75/100\n",
      "24/24 [==============================] - 0s 3ms/step - loss: 0.1194 - accuracy: 0.9987\n",
      "Epoch 76/100\n",
      "24/24 [==============================] - 0s 3ms/step - loss: 0.1172 - accuracy: 1.0000\n",
      "Epoch 77/100\n",
      "24/24 [==============================] - 0s 3ms/step - loss: 0.1150 - accuracy: 1.0000\n",
      "Epoch 78/100\n",
      "24/24 [==============================] - 0s 3ms/step - loss: 0.1128 - accuracy: 1.0000\n",
      "Epoch 79/100\n",
      "24/24 [==============================] - 0s 3ms/step - loss: 0.1108 - accuracy: 1.0000\n",
      "Epoch 80/100\n",
      "24/24 [==============================] - 0s 3ms/step - loss: 0.1087 - accuracy: 1.0000\n",
      "Epoch 81/100\n",
      "24/24 [==============================] - 0s 3ms/step - loss: 0.1068 - accuracy: 1.0000\n",
      "Epoch 82/100\n",
      "24/24 [==============================] - 0s 3ms/step - loss: 0.1048 - accuracy: 1.0000\n",
      "Epoch 83/100\n"
     ]
    },
    {
     "name": "stdout",
     "output_type": "stream",
     "text": [
      "24/24 [==============================] - 0s 3ms/step - loss: 0.1029 - accuracy: 1.0000\n",
      "Epoch 84/100\n",
      "24/24 [==============================] - 0s 3ms/step - loss: 0.1011 - accuracy: 1.0000\n",
      "Epoch 85/100\n",
      "24/24 [==============================] - 0s 3ms/step - loss: 0.0993 - accuracy: 1.0000\n",
      "Epoch 86/100\n",
      "24/24 [==============================] - 0s 3ms/step - loss: 0.0976 - accuracy: 1.0000\n",
      "Epoch 87/100\n",
      "24/24 [==============================] - 0s 2ms/step - loss: 0.0959 - accuracy: 1.0000\n",
      "Epoch 88/100\n",
      "24/24 [==============================] - 0s 3ms/step - loss: 0.0942 - accuracy: 1.0000\n",
      "Epoch 89/100\n",
      "24/24 [==============================] - 0s 2ms/step - loss: 0.0926 - accuracy: 1.0000\n",
      "Epoch 90/100\n",
      "24/24 [==============================] - 0s 2ms/step - loss: 0.0910 - accuracy: 1.0000\n",
      "Epoch 91/100\n",
      "24/24 [==============================] - 0s 3ms/step - loss: 0.0894 - accuracy: 1.0000\n",
      "Epoch 92/100\n",
      "24/24 [==============================] - 0s 3ms/step - loss: 0.0879 - accuracy: 1.0000\n",
      "Epoch 93/100\n",
      "24/24 [==============================] - 0s 2ms/step - loss: 0.0865 - accuracy: 1.0000\n",
      "Epoch 94/100\n",
      "24/24 [==============================] - 0s 3ms/step - loss: 0.0850 - accuracy: 1.0000\n",
      "Epoch 95/100\n",
      "24/24 [==============================] - 0s 3ms/step - loss: 0.0836 - accuracy: 1.0000\n",
      "Epoch 96/100\n",
      "24/24 [==============================] - 0s 4ms/step - loss: 0.0823 - accuracy: 1.0000\n",
      "Epoch 97/100\n",
      "24/24 [==============================] - 0s 3ms/step - loss: 0.0809 - accuracy: 1.0000\n",
      "Epoch 98/100\n",
      "24/24 [==============================] - 0s 3ms/step - loss: 0.0796 - accuracy: 1.0000\n",
      "Epoch 99/100\n",
      "24/24 [==============================] - 0s 2ms/step - loss: 0.0783 - accuracy: 1.0000\n",
      "Epoch 100/100\n",
      "24/24 [==============================] - 0s 3ms/step - loss: 0.0770 - accuracy: 1.0000\n"
     ]
    }
   ],
   "source": [
    "# # Fit the model to the training data\n",
    "fit_model = nn_model.fit(X_train_scaled, y_train, epochs=100)"
   ]
  },
  {
   "cell_type": "code",
   "execution_count": 14,
   "id": "d3958590",
   "metadata": {},
   "outputs": [
    {
     "data": {
      "text/plain": [
       "<AxesSubplot:>"
      ]
     },
     "execution_count": 14,
     "metadata": {},
     "output_type": "execute_result"
    },
    {
     "data": {
      "image/png": "[encoded data removed]",
      "text/plain": [
       "<Figure size 432x288 with 1 Axes>"
      ]
     },
     "metadata": {
      "needs_background": "light"
     },
     "output_type": "display_data"
    }
   ],
   "source": [
    "# Create a DataFrame containing training history\n",
    "history_df = pd.DataFrame(fit_model.history, index=range(1,len(fit_model.history[\"loss\"])+1))\n",
    "\n",
    "# Plot the loss\n",
    "history_df.plot(y=\"loss\")"
   ]
  },
  {
   "cell_type": "code",
   "execution_count": 15,
   "id": "59e89e0d",
   "metadata": {},
   "outputs": [
    {
     "data": {
      "text/plain": [
       "<AxesSubplot:>"
      ]
     },
     "execution_count": 15,
     "metadata": {},
     "output_type": "execute_result"
    },
    {
     "data": {
      "image/png": "[encoded data removed]",
      "text/plain": [
       "<Figure size 432x288 with 1 Axes>"
      ]
     },
     "metadata": {
      "needs_background": "light"
     },
     "output_type": "display_data"
    }
   ],
   "source": [
    "# Plot the accuracy\n",
    "history_df.plot(y=\"accuracy\")"
   ]
  },
  {
   "cell_type": "code",
   "execution_count": 16,
   "id": "6418107d",
   "metadata": {},
   "outputs": [],
   "source": [
    "# Remember, our neural network consisted of a single hidden layer with one neuron—if we were to increase the number \n",
    "# of neurons in the hidden layer, the neural network would have been able to fit the training data even faster!"
   ]
  },
  {
   "cell_type": "code",
   "execution_count": 17,
   "id": "14f9fd67",
   "metadata": {},
   "outputs": [
    {
     "name": "stdout",
     "output_type": "stream",
     "text": [
      "8/8 - 0s - loss: 0.0715 - accuracy: 1.0000 - 202ms/epoch - 25ms/step\n",
      "Loss: 0.07150506228208542, Accuracy: 1.0\n"
     ]
    }
   ],
   "source": [
    "# Evaluate the model using the test data\n",
    "model_loss, model_accuracy = nn_model.evaluate(X_test_scaled, y_test, verbose=2)\n",
    "print(f\"Loss: {model_loss}, Accuracy: {model_accuracy}\")"
   ]
  },
  {
   "cell_type": "code",
   "execution_count": 18,
   "id": "89744fea",
   "metadata": {},
   "outputs": [
    {
     "name": "stdout",
     "output_type": "stream",
     "text": [
      "1/1 [==============================] - 0s 104ms/step\n"
     ]
    },
    {
     "data": {
      "text/plain": [
       "array([[0],\n",
       "       [1],\n",
       "       [0],\n",
       "       [1],\n",
       "       [0],\n",
       "       [0],\n",
       "       [1],\n",
       "       [1],\n",
       "       [1],\n",
       "       [0]], dtype=int32)"
      ]
     },
     "execution_count": 18,
     "metadata": {},
     "output_type": "execute_result"
    }
   ],
   "source": [
    "# Predict the classification of a new set of blob data\n",
    "new_X, new_Y = make_blobs(n_samples=10, centers=2, n_features=2, random_state=78)\n",
    "new_X_scaled = X_scaler.transform(new_X)\n",
    "(nn_model.predict(new_X_scaled) > 0.5).astype(\"int32\")"
   ]
  },
  {
   "cell_type": "code",
   "execution_count": 20,
   "id": "4706170a",
   "metadata": {},
   "outputs": [],
   "source": [
    "# simple linear regression and singular perceptron models work really well as a binary classifier when \n",
    "# the data is linearly separable."
   ]
  },
  {
   "cell_type": "code",
   "execution_count": null,
   "id": "e7235136",
   "metadata": {},
   "outputs": [],
   "source": [
    "# Non linear data"
   ]
  },
  {
   "cell_type": "code",
   "execution_count": 21,
   "id": "946907b7",
   "metadata": {},
   "outputs": [
    {
     "data": {
      "text/plain": [
       "<AxesSubplot:xlabel='Feature 1', ylabel='Feature 2'>"
      ]
     },
     "execution_count": 21,
     "metadata": {},
     "output_type": "execute_result"
    },
    {
     "data": {
      "image/png": "[encoded data removed]",
      "text/plain": [
       "<Figure size 432x288 with 2 Axes>"
      ]
     },
     "metadata": {
      "needs_background": "light"
     },
     "output_type": "display_data"
    }
   ],
   "source": [
    "from sklearn.datasets import make_moons\n",
    "\n",
    "# Creating dummy nonlinear data\n",
    "X_moons, y_moons = make_moons(n_samples=1000, noise=0.08, random_state=78)\n",
    "\n",
    "# Transforming y_moons to a vertical vector\n",
    "y_moons = y_moons.reshape(-1, 1)\n",
    "\n",
    "# Creating a DataFrame to plot the nonlinear dummy data\n",
    "df_moons = pd.DataFrame(X_moons, columns=[\"Feature 1\", \"Feature 2\"])\n",
    "df_moons[\"Target\"] = y_moons\n",
    "\n",
    "# Plot the nonlinear dummy data\n",
    "df_moons.plot.scatter(x=\"Feature 1\",y=\"Feature 2\", c=\"Target\",colormap=\"winter\")"
   ]
  },
  {
   "cell_type": "code",
   "execution_count": 22,
   "id": "7aeab103",
   "metadata": {},
   "outputs": [],
   "source": [
    "# Create training and testing sets\n",
    "X_moon_train, X_moon_test, y_moon_train, y_moon_test = train_test_split(\n",
    "    X_moons, y_moons, random_state=78\n",
    ")\n",
    "\n",
    "# Create the scaler instance\n",
    "X_moon_scaler = skl.preprocessing.StandardScaler()\n",
    "\n",
    "# Fit the scaler\n",
    "X_moon_scaler.fit(X_moon_train)\n",
    "\n",
    "# Scale the data\n",
    "X_moon_train_scaled = X_moon_scaler.transform(X_moon_train)\n",
    "X_moon_test_scaled = X_moon_scaler.transform(X_moon_test)"
   ]
  },
  {
   "cell_type": "code",
   "execution_count": 23,
   "id": "7726cd5c",
   "metadata": {},
   "outputs": [
    {
     "name": "stdout",
     "output_type": "stream",
     "text": [
      "Epoch 1/100\n",
      "24/24 [==============================] - 2s 3ms/step - loss: 1.2093 - accuracy: 0.4200\n",
      "Epoch 2/100\n",
      "24/24 [==============================] - 0s 3ms/step - loss: 1.0516 - accuracy: 0.4493\n",
      "Epoch 3/100\n",
      "24/24 [==============================] - 0s 4ms/step - loss: 0.9513 - accuracy: 0.4787\n",
      "Epoch 4/100\n",
      "24/24 [==============================] - 0s 3ms/step - loss: 0.8858 - accuracy: 0.4947\n",
      "Epoch 5/100\n",
      "24/24 [==============================] - 0s 4ms/step - loss: 0.8372 - accuracy: 0.5147\n",
      "Epoch 6/100\n",
      "24/24 [==============================] - 0s 4ms/step - loss: 0.8004 - accuracy: 0.5333\n",
      "Epoch 7/100\n",
      "24/24 [==============================] - 0s 3ms/step - loss: 0.7698 - accuracy: 0.5520\n",
      "Epoch 8/100\n",
      "24/24 [==============================] - 0s 5ms/step - loss: 0.7438 - accuracy: 0.5613\n",
      "Epoch 9/100\n",
      "24/24 [==============================] - 0s 4ms/step - loss: 0.7208 - accuracy: 0.5813\n",
      "Epoch 10/100\n",
      "24/24 [==============================] - 0s 3ms/step - loss: 0.6999 - accuracy: 0.5893\n",
      "Epoch 11/100\n",
      "24/24 [==============================] - 0s 6ms/step - loss: 0.6810 - accuracy: 0.5973\n",
      "Epoch 12/100\n",
      "24/24 [==============================] - 0s 5ms/step - loss: 0.6630 - accuracy: 0.6040\n",
      "Epoch 13/100\n",
      "24/24 [==============================] - 0s 8ms/step - loss: 0.6468 - accuracy: 0.6120\n",
      "Epoch 14/100\n",
      "24/24 [==============================] - 0s 9ms/step - loss: 0.6316 - accuracy: 0.6173\n",
      "Epoch 15/100\n",
      "24/24 [==============================] - 0s 4ms/step - loss: 0.6171 - accuracy: 0.6213\n",
      "Epoch 16/100\n",
      "24/24 [==============================] - 0s 5ms/step - loss: 0.6029 - accuracy: 0.6253\n",
      "Epoch 17/100\n",
      "24/24 [==============================] - 0s 6ms/step - loss: 0.5897 - accuracy: 0.6320\n",
      "Epoch 18/100\n",
      "24/24 [==============================] - 0s 5ms/step - loss: 0.5773 - accuracy: 0.6413\n",
      "Epoch 19/100\n",
      "24/24 [==============================] - 0s 5ms/step - loss: 0.5655 - accuracy: 0.6507\n",
      "Epoch 20/100\n",
      "24/24 [==============================] - 0s 4ms/step - loss: 0.5544 - accuracy: 0.6560\n",
      "Epoch 21/100\n",
      "24/24 [==============================] - 0s 6ms/step - loss: 0.5440 - accuracy: 0.6600\n",
      "Epoch 22/100\n",
      "24/24 [==============================] - 0s 6ms/step - loss: 0.5341 - accuracy: 0.6693\n",
      "Epoch 23/100\n",
      "24/24 [==============================] - 0s 4ms/step - loss: 0.5247 - accuracy: 0.6760\n",
      "Epoch 24/100\n",
      "24/24 [==============================] - 0s 4ms/step - loss: 0.5156 - accuracy: 0.6827\n",
      "Epoch 25/100\n",
      "24/24 [==============================] - 0s 4ms/step - loss: 0.5068 - accuracy: 0.6907\n",
      "Epoch 26/100\n",
      "24/24 [==============================] - 0s 4ms/step - loss: 0.4989 - accuracy: 0.6920\n",
      "Epoch 27/100\n",
      "24/24 [==============================] - 0s 6ms/step - loss: 0.4908 - accuracy: 0.7013\n",
      "Epoch 28/100\n",
      "24/24 [==============================] - 0s 6ms/step - loss: 0.4834 - accuracy: 0.7027\n",
      "Epoch 29/100\n",
      "24/24 [==============================] - 0s 4ms/step - loss: 0.4758 - accuracy: 0.7093\n",
      "Epoch 30/100\n",
      "24/24 [==============================] - 0s 3ms/step - loss: 0.4689 - accuracy: 0.7160\n",
      "Epoch 31/100\n",
      "24/24 [==============================] - 0s 5ms/step - loss: 0.4620 - accuracy: 0.7227\n",
      "Epoch 32/100\n",
      "24/24 [==============================] - 0s 5ms/step - loss: 0.4554 - accuracy: 0.7293\n",
      "Epoch 33/100\n",
      "24/24 [==============================] - 0s 4ms/step - loss: 0.4490 - accuracy: 0.7360\n",
      "Epoch 34/100\n",
      "24/24 [==============================] - 0s 7ms/step - loss: 0.4427 - accuracy: 0.7440\n",
      "Epoch 35/100\n",
      "24/24 [==============================] - 0s 5ms/step - loss: 0.4369 - accuracy: 0.7480\n",
      "Epoch 36/100\n",
      "24/24 [==============================] - 0s 4ms/step - loss: 0.4305 - accuracy: 0.7507\n",
      "Epoch 37/100\n",
      "24/24 [==============================] - 0s 3ms/step - loss: 0.4248 - accuracy: 0.7547\n",
      "Epoch 38/100\n",
      "24/24 [==============================] - 0s 5ms/step - loss: 0.4191 - accuracy: 0.7627\n",
      "Epoch 39/100\n",
      "24/24 [==============================] - 0s 4ms/step - loss: 0.4135 - accuracy: 0.7720\n",
      "Epoch 40/100\n",
      "24/24 [==============================] - 0s 4ms/step - loss: 0.4082 - accuracy: 0.7787\n",
      "Epoch 41/100\n",
      "24/24 [==============================] - 0s 4ms/step - loss: 0.4030 - accuracy: 0.7813\n",
      "Epoch 42/100\n",
      "24/24 [==============================] - 0s 4ms/step - loss: 0.3979 - accuracy: 0.7840\n",
      "Epoch 43/100\n",
      "24/24 [==============================] - 0s 3ms/step - loss: 0.3926 - accuracy: 0.7853\n",
      "Epoch 44/100\n",
      "24/24 [==============================] - 0s 4ms/step - loss: 0.3877 - accuracy: 0.7867\n",
      "Epoch 45/100\n",
      "24/24 [==============================] - 0s 4ms/step - loss: 0.3828 - accuracy: 0.7893\n",
      "Epoch 46/100\n",
      "24/24 [==============================] - 0s 4ms/step - loss: 0.3781 - accuracy: 0.7947\n",
      "Epoch 47/100\n",
      "24/24 [==============================] - 0s 4ms/step - loss: 0.3735 - accuracy: 0.7973\n",
      "Epoch 48/100\n",
      "24/24 [==============================] - 0s 3ms/step - loss: 0.3691 - accuracy: 0.8000\n",
      "Epoch 49/100\n",
      "24/24 [==============================] - 0s 4ms/step - loss: 0.3648 - accuracy: 0.8027\n",
      "Epoch 50/100\n",
      "24/24 [==============================] - 0s 4ms/step - loss: 0.3606 - accuracy: 0.8093\n",
      "Epoch 51/100\n",
      "24/24 [==============================] - 0s 3ms/step - loss: 0.3567 - accuracy: 0.8107\n",
      "Epoch 52/100\n",
      "24/24 [==============================] - 0s 4ms/step - loss: 0.3529 - accuracy: 0.8147\n",
      "Epoch 53/100\n",
      "24/24 [==============================] - 0s 3ms/step - loss: 0.3492 - accuracy: 0.8187\n",
      "Epoch 54/100\n",
      "24/24 [==============================] - 0s 4ms/step - loss: 0.3457 - accuracy: 0.8227\n",
      "Epoch 55/100\n",
      "24/24 [==============================] - 0s 3ms/step - loss: 0.3424 - accuracy: 0.8267\n",
      "Epoch 56/100\n",
      "24/24 [==============================] - 0s 3ms/step - loss: 0.3393 - accuracy: 0.8333\n",
      "Epoch 57/100\n",
      "24/24 [==============================] - 0s 3ms/step - loss: 0.3363 - accuracy: 0.8373\n",
      "Epoch 58/100\n",
      "24/24 [==============================] - 0s 4ms/step - loss: 0.3334 - accuracy: 0.8373\n",
      "Epoch 59/100\n",
      "24/24 [==============================] - 0s 3ms/step - loss: 0.3305 - accuracy: 0.8400\n",
      "Epoch 60/100\n",
      "24/24 [==============================] - 0s 3ms/step - loss: 0.3279 - accuracy: 0.8427\n",
      "Epoch 61/100\n",
      "24/24 [==============================] - 0s 3ms/step - loss: 0.3253 - accuracy: 0.8480\n",
      "Epoch 62/100\n",
      "24/24 [==============================] - 0s 4ms/step - loss: 0.3228 - accuracy: 0.8507\n",
      "Epoch 63/100\n",
      "24/24 [==============================] - 0s 4ms/step - loss: 0.3204 - accuracy: 0.8533\n",
      "Epoch 64/100\n",
      "24/24 [==============================] - 0s 3ms/step - loss: 0.3180 - accuracy: 0.8560\n",
      "Epoch 65/100\n",
      "24/24 [==============================] - 0s 4ms/step - loss: 0.3159 - accuracy: 0.8587\n",
      "Epoch 66/100\n",
      "24/24 [==============================] - 0s 3ms/step - loss: 0.3137 - accuracy: 0.8627\n",
      "Epoch 67/100\n",
      "24/24 [==============================] - 0s 3ms/step - loss: 0.3116 - accuracy: 0.8640\n",
      "Epoch 68/100\n",
      "24/24 [==============================] - 0s 3ms/step - loss: 0.3097 - accuracy: 0.8640\n",
      "Epoch 69/100\n",
      "24/24 [==============================] - 0s 3ms/step - loss: 0.3077 - accuracy: 0.8640\n",
      "Epoch 70/100\n",
      "24/24 [==============================] - 0s 4ms/step - loss: 0.3060 - accuracy: 0.8667\n",
      "Epoch 71/100\n",
      "24/24 [==============================] - 0s 4ms/step - loss: 0.3041 - accuracy: 0.8680\n",
      "Epoch 72/100\n",
      "24/24 [==============================] - 0s 4ms/step - loss: 0.3024 - accuracy: 0.8680\n",
      "Epoch 73/100\n",
      "24/24 [==============================] - 0s 3ms/step - loss: 0.3006 - accuracy: 0.8680\n",
      "Epoch 74/100\n",
      "24/24 [==============================] - 0s 4ms/step - loss: 0.2990 - accuracy: 0.8693\n",
      "Epoch 75/100\n",
      "24/24 [==============================] - 0s 3ms/step - loss: 0.2975 - accuracy: 0.8693\n",
      "Epoch 76/100\n",
      "24/24 [==============================] - 0s 3ms/step - loss: 0.2960 - accuracy: 0.8707\n",
      "Epoch 77/100\n",
      "24/24 [==============================] - 0s 5ms/step - loss: 0.2945 - accuracy: 0.8707\n",
      "Epoch 78/100\n",
      "24/24 [==============================] - 0s 3ms/step - loss: 0.2931 - accuracy: 0.8707\n",
      "Epoch 79/100\n",
      "24/24 [==============================] - 0s 6ms/step - loss: 0.2917 - accuracy: 0.8707\n",
      "Epoch 80/100\n",
      "24/24 [==============================] - 0s 10ms/step - loss: 0.2905 - accuracy: 0.8720\n",
      "Epoch 81/100\n",
      "24/24 [==============================] - 0s 3ms/step - loss: 0.2893 - accuracy: 0.8733\n",
      "Epoch 82/100\n",
      "24/24 [==============================] - 0s 6ms/step - loss: 0.2880 - accuracy: 0.8733\n",
      "Epoch 83/100\n"
     ]
    },
    {
     "name": "stdout",
     "output_type": "stream",
     "text": [
      "24/24 [==============================] - 0s 5ms/step - loss: 0.2869 - accuracy: 0.8733\n",
      "Epoch 84/100\n",
      "24/24 [==============================] - 0s 4ms/step - loss: 0.2858 - accuracy: 0.8733\n",
      "Epoch 85/100\n",
      "24/24 [==============================] - 0s 3ms/step - loss: 0.2847 - accuracy: 0.8733\n",
      "Epoch 86/100\n",
      "24/24 [==============================] - 0s 3ms/step - loss: 0.2836 - accuracy: 0.8733\n",
      "Epoch 87/100\n",
      "24/24 [==============================] - 0s 6ms/step - loss: 0.2826 - accuracy: 0.8733\n",
      "Epoch 88/100\n",
      "24/24 [==============================] - 0s 6ms/step - loss: 0.2816 - accuracy: 0.8733\n",
      "Epoch 89/100\n",
      "24/24 [==============================] - 0s 4ms/step - loss: 0.2807 - accuracy: 0.8773\n",
      "Epoch 90/100\n",
      "24/24 [==============================] - 0s 3ms/step - loss: 0.2798 - accuracy: 0.8787\n",
      "Epoch 91/100\n",
      "24/24 [==============================] - 0s 4ms/step - loss: 0.2790 - accuracy: 0.8787\n",
      "Epoch 92/100\n",
      "24/24 [==============================] - 0s 4ms/step - loss: 0.2781 - accuracy: 0.8813\n",
      "Epoch 93/100\n",
      "24/24 [==============================] - 0s 3ms/step - loss: 0.2773 - accuracy: 0.8813\n",
      "Epoch 94/100\n",
      "24/24 [==============================] - 0s 3ms/step - loss: 0.2765 - accuracy: 0.8827\n",
      "Epoch 95/100\n",
      "24/24 [==============================] - 0s 3ms/step - loss: 0.2757 - accuracy: 0.8840\n",
      "Epoch 96/100\n",
      "24/24 [==============================] - 0s 5ms/step - loss: 0.2750 - accuracy: 0.8840\n",
      "Epoch 97/100\n",
      "24/24 [==============================] - 0s 4ms/step - loss: 0.2742 - accuracy: 0.8853\n",
      "Epoch 98/100\n",
      "24/24 [==============================] - 0s 3ms/step - loss: 0.2736 - accuracy: 0.8880\n",
      "Epoch 99/100\n",
      "24/24 [==============================] - 0s 3ms/step - loss: 0.2728 - accuracy: 0.8880\n",
      "Epoch 100/100\n",
      "24/24 [==============================] - 0s 4ms/step - loss: 0.2723 - accuracy: 0.8880\n"
     ]
    }
   ],
   "source": [
    "# Training the model with the nonlinear data\n",
    "model_moon = nn_model.fit(X_moon_train_scaled, y_moon_train, epochs=100, shuffle=True)"
   ]
  },
  {
   "cell_type": "code",
   "execution_count": 24,
   "id": "f83ae2b2",
   "metadata": {},
   "outputs": [
    {
     "data": {
      "text/plain": [
       "<AxesSubplot:>"
      ]
     },
     "execution_count": 24,
     "metadata": {},
     "output_type": "execute_result"
    },
    {
     "data": {
      "image/png": "[encoded data removed]",
      "text/plain": [
       "<Figure size 432x288 with 1 Axes>"
      ]
     },
     "metadata": {
      "needs_background": "light"
     },
     "output_type": "display_data"
    }
   ],
   "source": [
    "# Create a DataFrame containing training history\n",
    "history_df = pd.DataFrame(model_moon.history, index=range(1,len(model_moon.history[\"loss\"])+1))\n",
    "\n",
    "# Plot the loss\n",
    "history_df.plot(y=\"loss\")"
   ]
  },
  {
   "cell_type": "code",
   "execution_count": 25,
   "id": "7d2accba",
   "metadata": {},
   "outputs": [
    {
     "data": {
      "text/plain": [
       "<AxesSubplot:>"
      ]
     },
     "execution_count": 25,
     "metadata": {},
     "output_type": "execute_result"
    },
    {
     "data": {
      "image/png": "[encoded data removed]",
      "text/plain": [
       "<Figure size 432x288 with 1 Axes>"
      ]
     },
     "metadata": {
      "needs_background": "light"
     },
     "output_type": "display_data"
    }
   ],
   "source": [
    "# Plot the accuracy\n",
    "history_df.plot(y=\"accuracy\")"
   ]
  },
  {
   "cell_type": "code",
   "execution_count": 26,
   "id": "93ce5bbd",
   "metadata": {},
   "outputs": [],
   "source": [
    "# the more complicated and nonlinear the dataset, the more components we'd need to add to a neural network to \n",
    "# achieve our desired performance."
   ]
  },
  {
   "cell_type": "code",
   "execution_count": 27,
   "id": "3e94ae41",
   "metadata": {},
   "outputs": [],
   "source": [
    "# Multiple Neuron Neural Network"
   ]
  },
  {
   "cell_type": "code",
   "execution_count": 28,
   "id": "360b0952",
   "metadata": {},
   "outputs": [],
   "source": [
    "# There are multiple advantages to adding neurons to our hidden layer in a neural network. \n",
    "#Some of the advantages follow:\n",
    "\n",
    "# There is a distributed effort to find optimal weights—faster.\n",
    "# Each neuron can focus on different features to identify nonlinear effects—smarter.\n",
    "# It is less likely to fixate on complex variables—more robust."
   ]
  },
  {
   "cell_type": "code",
   "execution_count": 29,
   "id": "94eaa82a",
   "metadata": {},
   "outputs": [],
   "source": [
    "# IMPORTANT\n",
    "# A good rule of thumb for a basic neural network is to have two to three times the amount of neurons in the \n",
    "# hidden layer as the number of inputs."
   ]
  },
  {
   "cell_type": "code",
   "execution_count": 30,
   "id": "7a39b98a",
   "metadata": {},
   "outputs": [],
   "source": [
    "# Generate our new Sequential model\n",
    "new_model = tf.keras.models.Sequential()"
   ]
  },
  {
   "cell_type": "code",
   "execution_count": 31,
   "id": "92ef892c",
   "metadata": {},
   "outputs": [],
   "source": [
    "# Add the input and hidden layer\n",
    "number_inputs = 2\n",
    "number_hidden_nodes = 6\n",
    "\n",
    "new_model.add(tf.keras.layers.Dense(units=number_hidden_nodes, activation=\"relu\", input_dim=number_inputs))\n",
    "\n",
    "# Add the output layer that uses a probability activation function\n",
    "new_model.add(tf.keras.layers.Dense(units=1, activation=\"sigmoid\"))"
   ]
  },
  {
   "cell_type": "code",
   "execution_count": 32,
   "id": "5ab43831",
   "metadata": {},
   "outputs": [
    {
     "name": "stdout",
     "output_type": "stream",
     "text": [
      "Epoch 1/100\n",
      "24/24 [==============================] - 1s 3ms/step - loss: 1.0238 - accuracy: 0.1413\n",
      "Epoch 2/100\n",
      "24/24 [==============================] - 0s 4ms/step - loss: 0.9547 - accuracy: 0.1453\n",
      "Epoch 3/100\n",
      "24/24 [==============================] - 0s 5ms/step - loss: 0.8951 - accuracy: 0.1520\n",
      "Epoch 4/100\n",
      "24/24 [==============================] - 0s 3ms/step - loss: 0.8446 - accuracy: 0.1547\n",
      "Epoch 5/100\n",
      "24/24 [==============================] - 0s 6ms/step - loss: 0.8000 - accuracy: 0.1667\n",
      "Epoch 6/100\n",
      "24/24 [==============================] - 0s 3ms/step - loss: 0.7606 - accuracy: 0.2027\n",
      "Epoch 7/100\n",
      "24/24 [==============================] - 0s 4ms/step - loss: 0.7243 - accuracy: 0.2853\n",
      "Epoch 8/100\n",
      "24/24 [==============================] - 0s 3ms/step - loss: 0.6903 - accuracy: 0.4160\n",
      "Epoch 9/100\n",
      "24/24 [==============================] - 0s 3ms/step - loss: 0.6584 - accuracy: 0.5960\n",
      "Epoch 10/100\n",
      "24/24 [==============================] - 0s 12ms/step - loss: 0.6276 - accuracy: 0.6893\n",
      "Epoch 11/100\n",
      "24/24 [==============================] - 0s 9ms/step - loss: 0.5971 - accuracy: 0.7413\n",
      "Epoch 12/100\n",
      "24/24 [==============================] - 0s 7ms/step - loss: 0.5670 - accuracy: 0.8107\n",
      "Epoch 13/100\n",
      "24/24 [==============================] - 0s 3ms/step - loss: 0.5386 - accuracy: 0.8387\n",
      "Epoch 14/100\n",
      "24/24 [==============================] - 0s 6ms/step - loss: 0.5112 - accuracy: 0.8547\n",
      "Epoch 15/100\n",
      "24/24 [==============================] - 0s 8ms/step - loss: 0.4856 - accuracy: 0.8573\n",
      "Epoch 16/100\n",
      "24/24 [==============================] - 0s 4ms/step - loss: 0.4615 - accuracy: 0.8560\n",
      "Epoch 17/100\n",
      "24/24 [==============================] - 0s 5ms/step - loss: 0.4395 - accuracy: 0.8547\n",
      "Epoch 18/100\n",
      "24/24 [==============================] - 0s 3ms/step - loss: 0.4194 - accuracy: 0.8560\n",
      "Epoch 19/100\n",
      "24/24 [==============================] - 0s 4ms/step - loss: 0.4015 - accuracy: 0.8573\n",
      "Epoch 20/100\n",
      "24/24 [==============================] - 0s 5ms/step - loss: 0.3854 - accuracy: 0.8573\n",
      "Epoch 21/100\n",
      "24/24 [==============================] - 0s 4ms/step - loss: 0.3709 - accuracy: 0.8653\n",
      "Epoch 22/100\n",
      "24/24 [==============================] - 0s 5ms/step - loss: 0.3581 - accuracy: 0.8640\n",
      "Epoch 23/100\n",
      "24/24 [==============================] - 0s 5ms/step - loss: 0.3468 - accuracy: 0.8680\n",
      "Epoch 24/100\n",
      "24/24 [==============================] - 0s 6ms/step - loss: 0.3366 - accuracy: 0.8693\n",
      "Epoch 25/100\n",
      "24/24 [==============================] - 0s 4ms/step - loss: 0.3276 - accuracy: 0.8733\n",
      "Epoch 26/100\n",
      "24/24 [==============================] - 0s 3ms/step - loss: 0.3197 - accuracy: 0.8733\n",
      "Epoch 27/100\n",
      "24/24 [==============================] - 0s 4ms/step - loss: 0.3124 - accuracy: 0.8747\n",
      "Epoch 28/100\n",
      "24/24 [==============================] - 0s 3ms/step - loss: 0.3058 - accuracy: 0.8747\n",
      "Epoch 29/100\n",
      "24/24 [==============================] - 0s 4ms/step - loss: 0.2999 - accuracy: 0.8773\n",
      "Epoch 30/100\n",
      "24/24 [==============================] - 0s 2ms/step - loss: 0.2944 - accuracy: 0.8787\n",
      "Epoch 31/100\n",
      "24/24 [==============================] - 0s 4ms/step - loss: 0.2896 - accuracy: 0.8787\n",
      "Epoch 32/100\n",
      "24/24 [==============================] - 0s 3ms/step - loss: 0.2849 - accuracy: 0.8813\n",
      "Epoch 33/100\n",
      "24/24 [==============================] - 0s 4ms/step - loss: 0.2809 - accuracy: 0.8867\n",
      "Epoch 34/100\n",
      "24/24 [==============================] - 0s 4ms/step - loss: 0.2770 - accuracy: 0.8867\n",
      "Epoch 35/100\n",
      "24/24 [==============================] - 0s 3ms/step - loss: 0.2734 - accuracy: 0.8867\n",
      "Epoch 36/100\n",
      "24/24 [==============================] - 0s 4ms/step - loss: 0.2703 - accuracy: 0.8880\n",
      "Epoch 37/100\n",
      "24/24 [==============================] - 0s 3ms/step - loss: 0.2673 - accuracy: 0.8920\n",
      "Epoch 38/100\n",
      "24/24 [==============================] - 0s 5ms/step - loss: 0.2646 - accuracy: 0.8920\n",
      "Epoch 39/100\n",
      "24/24 [==============================] - 0s 3ms/step - loss: 0.2623 - accuracy: 0.8933\n",
      "Epoch 40/100\n",
      "24/24 [==============================] - 0s 4ms/step - loss: 0.2599 - accuracy: 0.8933\n",
      "Epoch 41/100\n",
      "24/24 [==============================] - 0s 4ms/step - loss: 0.2579 - accuracy: 0.8933\n",
      "Epoch 42/100\n",
      "24/24 [==============================] - 0s 4ms/step - loss: 0.2560 - accuracy: 0.8933\n",
      "Epoch 43/100\n",
      "24/24 [==============================] - 0s 3ms/step - loss: 0.2542 - accuracy: 0.8933\n",
      "Epoch 44/100\n",
      "24/24 [==============================] - 0s 3ms/step - loss: 0.2525 - accuracy: 0.8933\n",
      "Epoch 45/100\n",
      "24/24 [==============================] - 0s 4ms/step - loss: 0.2509 - accuracy: 0.8933\n",
      "Epoch 46/100\n",
      "24/24 [==============================] - 0s 4ms/step - loss: 0.2494 - accuracy: 0.8933\n",
      "Epoch 47/100\n",
      "24/24 [==============================] - 0s 4ms/step - loss: 0.2481 - accuracy: 0.8947\n",
      "Epoch 48/100\n",
      "24/24 [==============================] - 0s 6ms/step - loss: 0.2468 - accuracy: 0.8960\n",
      "Epoch 49/100\n",
      "24/24 [==============================] - 0s 4ms/step - loss: 0.2455 - accuracy: 0.8960\n",
      "Epoch 50/100\n",
      "24/24 [==============================] - 0s 4ms/step - loss: 0.2446 - accuracy: 0.8960\n",
      "Epoch 51/100\n",
      "24/24 [==============================] - 0s 3ms/step - loss: 0.2433 - accuracy: 0.8960\n",
      "Epoch 52/100\n",
      "24/24 [==============================] - 0s 4ms/step - loss: 0.2422 - accuracy: 0.8960\n",
      "Epoch 53/100\n",
      "24/24 [==============================] - 0s 2ms/step - loss: 0.2412 - accuracy: 0.8960\n",
      "Epoch 54/100\n",
      "24/24 [==============================] - 0s 3ms/step - loss: 0.2402 - accuracy: 0.8960\n",
      "Epoch 55/100\n",
      "24/24 [==============================] - 0s 3ms/step - loss: 0.2392 - accuracy: 0.8960\n",
      "Epoch 56/100\n",
      "24/24 [==============================] - 0s 3ms/step - loss: 0.2382 - accuracy: 0.8973\n",
      "Epoch 57/100\n",
      "24/24 [==============================] - 0s 3ms/step - loss: 0.2373 - accuracy: 0.8973\n",
      "Epoch 58/100\n",
      "24/24 [==============================] - 0s 3ms/step - loss: 0.2364 - accuracy: 0.8973\n",
      "Epoch 59/100\n",
      "24/24 [==============================] - 0s 3ms/step - loss: 0.2354 - accuracy: 0.8987\n",
      "Epoch 60/100\n",
      "24/24 [==============================] - 0s 3ms/step - loss: 0.2345 - accuracy: 0.8987\n",
      "Epoch 61/100\n",
      "24/24 [==============================] - 0s 3ms/step - loss: 0.2337 - accuracy: 0.8987\n",
      "Epoch 62/100\n",
      "24/24 [==============================] - 0s 3ms/step - loss: 0.2328 - accuracy: 0.8987\n",
      "Epoch 63/100\n",
      "24/24 [==============================] - 0s 4ms/step - loss: 0.2320 - accuracy: 0.9000\n",
      "Epoch 64/100\n",
      "24/24 [==============================] - 0s 4ms/step - loss: 0.2313 - accuracy: 0.9000\n",
      "Epoch 65/100\n",
      "24/24 [==============================] - 0s 6ms/step - loss: 0.2304 - accuracy: 0.9000\n",
      "Epoch 66/100\n",
      "24/24 [==============================] - 0s 9ms/step - loss: 0.2295 - accuracy: 0.9000\n",
      "Epoch 67/100\n",
      "24/24 [==============================] - 0s 4ms/step - loss: 0.2289 - accuracy: 0.9013\n",
      "Epoch 68/100\n",
      "24/24 [==============================] - 0s 2ms/step - loss: 0.2279 - accuracy: 0.9013\n",
      "Epoch 69/100\n",
      "24/24 [==============================] - 0s 3ms/step - loss: 0.2272 - accuracy: 0.9040\n",
      "Epoch 70/100\n",
      "24/24 [==============================] - 0s 3ms/step - loss: 0.2263 - accuracy: 0.9040\n",
      "Epoch 71/100\n",
      "24/24 [==============================] - 0s 5ms/step - loss: 0.2256 - accuracy: 0.9040\n",
      "Epoch 72/100\n",
      "24/24 [==============================] - 0s 4ms/step - loss: 0.2249 - accuracy: 0.9053\n",
      "Epoch 73/100\n",
      "24/24 [==============================] - 0s 4ms/step - loss: 0.2240 - accuracy: 0.9040\n",
      "Epoch 74/100\n",
      "24/24 [==============================] - 0s 5ms/step - loss: 0.2233 - accuracy: 0.9053\n",
      "Epoch 75/100\n",
      "24/24 [==============================] - 0s 8ms/step - loss: 0.2226 - accuracy: 0.9053\n",
      "Epoch 76/100\n",
      "24/24 [==============================] - 0s 4ms/step - loss: 0.2219 - accuracy: 0.9053\n",
      "Epoch 77/100\n",
      "24/24 [==============================] - 0s 3ms/step - loss: 0.2211 - accuracy: 0.9053\n",
      "Epoch 78/100\n",
      "24/24 [==============================] - 0s 3ms/step - loss: 0.2202 - accuracy: 0.9067\n",
      "Epoch 79/100\n",
      "24/24 [==============================] - 0s 3ms/step - loss: 0.2195 - accuracy: 0.9053\n",
      "Epoch 80/100\n",
      "24/24 [==============================] - 0s 3ms/step - loss: 0.2188 - accuracy: 0.9053\n",
      "Epoch 81/100\n",
      "24/24 [==============================] - 0s 4ms/step - loss: 0.2181 - accuracy: 0.9053\n",
      "Epoch 82/100\n",
      "24/24 [==============================] - 0s 3ms/step - loss: 0.2173 - accuracy: 0.9067\n",
      "Epoch 83/100\n"
     ]
    },
    {
     "name": "stdout",
     "output_type": "stream",
     "text": [
      "24/24 [==============================] - 0s 3ms/step - loss: 0.2166 - accuracy: 0.9067\n",
      "Epoch 84/100\n",
      "24/24 [==============================] - 0s 3ms/step - loss: 0.2159 - accuracy: 0.9067\n",
      "Epoch 85/100\n",
      "24/24 [==============================] - 0s 4ms/step - loss: 0.2152 - accuracy: 0.9067\n",
      "Epoch 86/100\n",
      "24/24 [==============================] - 0s 2ms/step - loss: 0.2145 - accuracy: 0.9067\n",
      "Epoch 87/100\n",
      "24/24 [==============================] - 0s 3ms/step - loss: 0.2137 - accuracy: 0.9067\n",
      "Epoch 88/100\n",
      "24/24 [==============================] - 0s 4ms/step - loss: 0.2130 - accuracy: 0.9067\n",
      "Epoch 89/100\n",
      "24/24 [==============================] - 0s 4ms/step - loss: 0.2123 - accuracy: 0.9067\n",
      "Epoch 90/100\n",
      "24/24 [==============================] - 0s 4ms/step - loss: 0.2116 - accuracy: 0.9080\n",
      "Epoch 91/100\n",
      "24/24 [==============================] - 0s 3ms/step - loss: 0.2110 - accuracy: 0.9093\n",
      "Epoch 92/100\n",
      "24/24 [==============================] - 0s 2ms/step - loss: 0.2103 - accuracy: 0.9080\n",
      "Epoch 93/100\n",
      "24/24 [==============================] - 0s 3ms/step - loss: 0.2095 - accuracy: 0.9080\n",
      "Epoch 94/100\n",
      "24/24 [==============================] - 0s 3ms/step - loss: 0.2088 - accuracy: 0.9080\n",
      "Epoch 95/100\n",
      "24/24 [==============================] - 0s 3ms/step - loss: 0.2080 - accuracy: 0.9107\n",
      "Epoch 96/100\n",
      "24/24 [==============================] - 0s 2ms/step - loss: 0.2073 - accuracy: 0.9107\n",
      "Epoch 97/100\n",
      "24/24 [==============================] - 0s 3ms/step - loss: 0.2066 - accuracy: 0.9107\n",
      "Epoch 98/100\n",
      "24/24 [==============================] - 0s 3ms/step - loss: 0.2059 - accuracy: 0.9107\n",
      "Epoch 99/100\n",
      "24/24 [==============================] - 0s 3ms/step - loss: 0.2053 - accuracy: 0.9107\n",
      "Epoch 100/100\n",
      "24/24 [==============================] - 0s 4ms/step - loss: 0.2046 - accuracy: 0.9093\n"
     ]
    }
   ],
   "source": [
    "# Compile the Sequential model together and customize metrics\n",
    "new_model.compile(loss=\"binary_crossentropy\", optimizer=\"adam\", metrics=[\"accuracy\"])\n",
    "\n",
    "# Fit the model to the training data\n",
    "new_fit_model = new_model.fit(X_moon_train_scaled, y_moon_train, epochs=100, shuffle=True)"
   ]
  },
  {
   "cell_type": "code",
   "execution_count": 33,
   "id": "522cd86f",
   "metadata": {},
   "outputs": [],
   "source": [
    "# notice that adding multiple neurons to our neural network did not yield a perfect classification model. \n",
    "# As input data becomes more complex, neural networks will require more and more optimization tweaks to \n",
    "# achieve their desired accuracy."
   ]
  },
  {
   "cell_type": "code",
   "execution_count": 34,
   "id": "4660b28c",
   "metadata": {},
   "outputs": [],
   "source": [
    "# When a neural network model does not meet performance expectations, it is usually due to one of two causes: \n",
    "#     inadequate or inappropriate model design for a given dataset, or insufficient or ineffective training data. \n",
    "#     Although collecting more training/test data is almost always beneficial, it may be impossible due to budget \n",
    "#     or logistical limitations. Therefore, the most straightforward means of improving neural network performance\n",
    "#     is tweaking the model design and parameters."
   ]
  },
  {
   "cell_type": "code",
   "execution_count": 35,
   "id": "3a9b6ecd",
   "metadata": {},
   "outputs": [],
   "source": [
    "# There are a few means of optimizing a neural network:\n",
    "\n",
    "# Check out your input dataset.\n",
    "# Add more neurons to a hidden layer.\n",
    "# Add additional hidden layers.\n",
    "# Use a different activation function for the hidden layers.\n",
    "# Add additional epochs to the training regimen."
   ]
  },
  {
   "cell_type": "code",
   "execution_count": 42,
   "id": "0de1aece",
   "metadata": {},
   "outputs": [],
   "source": [
    "# Instead of adding more neurons, we could change the structure of the model by adding additional hidden layers, \n",
    "# which allows neurons to train on activated input values, instead of looking at new training data. \n",
    "# Therefore, a neural network with multiple layers can identify nonlinear characteristics of the input \n",
    "# data without requiring more input data.\n",
    "\n",
    "# IMPORTANT\n",
    "# This concept of a multiple-layered neural network is known as a deep learning neural network. "
   ]
  },
  {
   "cell_type": "code",
   "execution_count": 43,
   "id": "f441fedb",
   "metadata": {},
   "outputs": [],
   "source": [
    "# ReLu\n",
    "# This function returns a value from 0 to infinity, so any negative input through the activation function is 0. \n",
    "# It is the most used activation function in neural networks due to its simplifying output, but might not be \n",
    "# appropriate for simpler models.\n",
    "\n",
    "# LeakyReLu\n",
    "# This function is an alternative to ReLu, whereby negative input values will return very small negative values.\n",
    "\n",
    "# Tahn\n",
    "# This function is identified by a characteristic S curve; however, it transforms the output to a range \n",
    "# between -1 and 1.\n",
    "\n",
    "# Sigmoid\n",
    "# This function is identified by a characteristic S curve. It transforms the output to a range between 0 and 1."
   ]
  },
  {
   "cell_type": "code",
   "execution_count": 44,
   "id": "38bb9e08",
   "metadata": {},
   "outputs": [],
   "source": [
    "# It is important to use an activation function that matches the complexity of the input data. \n",
    "# If we wanted to rank the four most-used activation functions by data complexity and ideal use case, \n",
    "# the order would be as follows:\n",
    "\n",
    "# The sigmoid function values are normalized to a probability between 0 and 1, which is ideal for binary classification.\n",
    "# The tanh function can be used for classification or regression, and it expands the range between -1 and 1.\n",
    "# The ReLU function is ideal for looking at positive nonlinear input data for classification or regression.\n",
    "# The Leaky ReLU function is a good alternative for nonlinear input data with many negative inputs."
   ]
  },
  {
   "cell_type": "code",
   "execution_count": 45,
   "id": "01fda796",
   "metadata": {},
   "outputs": [],
   "source": [
    "# To compare the performance of each model, ask the following questions:\n",
    "\n",
    "# What is the accuracy of my model? Is it acceptable or does it need to be higher?\n",
    "# How long did it take to train my model? How many minutes or hours? How many epochs?\n",
    "# Does it look like my model is as complex as my input data? \n",
    "# These reflective questions will help you identify what steps are needed to make your neural network (and other machine learning and statistical) models even better"
   ]
  },
  {
   "cell_type": "code",
   "execution_count": null,
   "id": "1db7fe6a",
   "metadata": {},
   "outputs": [],
   "source": []
  }
 ],
 "metadata": {
  "kernelspec": {
   "display_name": "mlenv",
   "language": "python",
   "name": "mlenv"
  },
  "language_info": {
   "codemirror_mode": {
    "name": "ipython",
    "version": 3
   },
   "file_extension": ".py",
   "mimetype": "text/x-python",
   "name": "python",
   "nbconvert_exporter": "python",
   "pygments_lexer": "ipython3",
   "version": "3.9.12"
  }
 },
 "nbformat": 4,
 "nbformat_minor": 5
}
